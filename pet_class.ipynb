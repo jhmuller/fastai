{
 "cells": [
  {
   "cell_type": "code",
   "execution_count": 1,
   "metadata": {},
   "outputs": [],
   "source": [
    "import os\n",
    "import time\n",
    "import ipywidgets as widgets\n",
    "from fastai.vision.all import *\n",
    "import fastai.learner\n",
    "import matplotlib.pyplot as plt\n",
    "#from IPython import display, clear_output"
   ]
  },
  {
   "cell_type": "code",
   "execution_count": 75,
   "metadata": {},
   "outputs": [],
   "source": [
    "learner = load_learner(\"breeds50.pkl\", cpu=False)\n",
    "# note learner is from fastai.learner"
   ]
  },
  {
   "cell_type": "markdown",
   "metadata": {},
   "source": [
    "<span style=\"color:blue\">\n",
    "    <h2> The Pet Recognizer </h2>\n",
    "    I present to you a \"Pet Breed recognizer\".  No, not something that will recognize which pet is <strong> yours</strong>,\n",
    "    but a program that will recognize which pet breed an image is. If you upload an image it will try to match it to one of the 37 pet breeds it knows about. <br>\n",
    "     I built this using a lot of code from the\n",
    " <a href=\"https://course.fast.ai/\"> fastai course </a>  <!--- -->\n",
    "     and \n",
    "<a href=\"https://voila.readthedocs.io/en/stable/using.html\"> voila </a> \n",
    "        and of course \n",
    "    <a href=\"https://mybinder.org/\" > mybinder </a> for the hosting. <br>\n",
    "        I hope you enjoy experimenting with it.\n",
    "    </span>"
   ]
  },
  {
   "cell_type": "markdown",
   "metadata": {},
   "source": [
    "<span style=\"color:blue\">\n",
    "     Click on the Upload button below to upload your own image and see which pet breed is the closest match. <br>\n",
    "    The output is a bar plot and the length of the bars next to the breeds shows the confidence the model has \n",
    "    that the image is the associated breed.  If the image is one of the breeds the model knows about, i.e. was trained with, then it is usually pretty sure and there is only one really long bar. Sometimes the model is confused and thinks it could be 2 or more breeds, especially if the image is not one if the known breeds. \n",
    "    Note that the model was not trained with some of the more popular breeds like labs, goldens, poodles or my cockapoo.<br> <br>\n",
    "    The model is far from perfect but it's pretty amazing that it can do as well as it does\n",
    "    since it didn't take a huge amount of time or resources to train. <br>\n",
    "    The model <em><strong>will only guess one of the breeds that it was trained with</strong></em>, no matter what is in the impage you upload. <br>\n",
    "    So have fun and upload an image of yourself and see which breed the model things you most resemble.  I am a mixture of lots of breeds, mostly wheaton terrier and Maine Coon.\n",
    "    <br> <br> You can learn more about me on my <a href=\"http://enterthedata.com\"> site</a>\n",
    "    </span>"
   ]
  },
  {
   "cell_type": "code",
   "execution_count": 76,
   "metadata": {},
   "outputs": [
    {
     "data": {
      "application/vnd.jupyter.widget-view+json": {
       "model_id": "250448affd9c40e4a642976afe9cc545",
       "version_major": 2,
       "version_minor": 0
      },
      "text/plain": [
       "HBox(children=(FileUpload(value={}, description='Upload'), Output(), Output()))"
      ]
     },
     "metadata": {},
     "output_type": "display_data"
    },
    {
     "data": {
      "text/html": [],
      "text/plain": [
       "<IPython.core.display.HTML object>"
      ]
     },
     "metadata": {},
     "output_type": "display_data"
    },
    {
     "data": {
      "text/html": [],
      "text/plain": [
       "<IPython.core.display.HTML object>"
      ]
     },
     "metadata": {},
     "output_type": "display_data"
    }
   ],
   "source": [
    "# file upload button\n",
    "outer = widgets.Output(layout={'display': 'flex'})#, 'border': '1px solid red'})\n",
    "pic_box = widgets.Output()#layout={'border': '2px solid blue'})\n",
    "pred_box = widgets.Output()#layout={'border': '2px solid blue'})\n",
    "fub = widgets.FileUpload(\n",
    "    accept='',  # Accepted file extension e.g. '.txt', '.pdf', 'image/*', 'image/*,.pdf'\n",
    "    multiple=False,  # True to accept multiple files upload else False\n",
    "    description=\"Upload\",\n",
    "    style = {'description_width': 'initial'}\n",
    ")\n",
    "img = None\n",
    "\n",
    "def show_prediction(preds):\n",
    "    global learner\n",
    "    global pred_box\n",
    "    pred_box.clear_output()\n",
    "    dic = {}\n",
    "    dic['breeds'] = learner.dls.vocab\n",
    "    dic['preds'] = preds[2]\n",
    "    df = pd.DataFrame.from_dict(dic)\n",
    "    with pred_box:\n",
    "        ax = df.plot.barh(x='breeds', y='preds', figsize=(2,8), grid=True, legend=False, title='Predictions')  # or df.plot(), or similar\n",
    "        ax.invert_yaxis()    \n",
    "        ax.grid(linestyle='-', linewidth='0.1', color='gray', which=\"minor\")\n",
    "        ax.grid(zorder=0)\n",
    "        plt.show()\n",
    "    \n",
    "def make_prediction(img=None):\n",
    "    preds = learner.predict(img)\n",
    "    show_prediction(preds)\n",
    "\n",
    "def display_img(data):\n",
    "    global img\n",
    "    img = PILImage.create(data['new'][-1])\n",
    "    pic_box.clear_output()\n",
    "    with pic_box:\n",
    "        display(img.to_thumb(128,128))\n",
    "    make_prediction(img)\n",
    "def print_s(s=\"here\"):\n",
    "    print(s)\n",
    "\n",
    "fub.observe(display_img, names='data')\n",
    "widgets.HBox([fub, pic_box, pred_box])"
   ]
  },
  {
   "cell_type": "code",
   "execution_count": null,
   "metadata": {},
   "outputs": [],
   "source": []
  }
 ],
 "metadata": {
  "kernelspec": {
   "display_name": "Python 3",
   "language": "python",
   "name": "python3"
  },
  "language_info": {
   "codemirror_mode": {
    "name": "ipython",
    "version": 3
   },
   "file_extension": ".py",
   "mimetype": "text/x-python",
   "name": "python",
   "nbconvert_exporter": "python",
   "pygments_lexer": "ipython3",
   "version": "3.8.5"
  }
 },
 "nbformat": 4,
 "nbformat_minor": 4
}
