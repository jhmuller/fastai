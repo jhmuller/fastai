{
 "cells": [
  {
   "cell_type": "code",
   "execution_count": 35,
   "metadata": {},
   "outputs": [],
   "source": [
    "from fastai.vision.all import *\n",
    "import os"
   ]
  },
  {
   "cell_type": "code",
   "execution_count": 36,
   "metadata": {},
   "outputs": [
    {
     "data": {
      "text/plain": [
       "['.ipynb_checkpoints',\n",
       " '__pycache__',\n",
       " 'bears',\n",
       " 'images',\n",
       " 'tmp',\n",
       " '.gitignore',\n",
       " '01_intro.html',\n",
       " '01_intro.ipynb',\n",
       " '02_production.html',\n",
       " '02_production.ipynb',\n",
       " '03_ethics.html',\n",
       " '03_ethics.ipynb',\n",
       " '04_mnist_basics.html',\n",
       " '04_mnist_basics.ipynb',\n",
       " '05_pet_breeds.html',\n",
       " '05_pet_breeds.ipynb',\n",
       " '06_multicat.html',\n",
       " '06_multicat.ipynb',\n",
       " '07_sizing_and_tta.html',\n",
       " '07_sizing_and_tta.ipynb',\n",
       " '08_collab.html',\n",
       " '08_collab.ipynb',\n",
       " '09_tabular.html',\n",
       " '09_tabular.ipynb',\n",
       " '10_nlp.html',\n",
       " '10_nlp.ipynb',\n",
       " '11_midlevel_data.html',\n",
       " '11_midlevel_data.ipynb',\n",
       " '12_nlp_dive.html',\n",
       " '12_nlp_dive.ipynb',\n",
       " '13_convolutions.html',\n",
       " '13_convolutions.ipynb',\n",
       " '14_resnet.html',\n",
       " '14_resnet.ipynb',\n",
       " '15_arch_details.html',\n",
       " '15_arch_details.ipynb',\n",
       " '16_accel_sgd.html',\n",
       " '16_accel_sgd.ipynb',\n",
       " '17_foundations.html',\n",
       " '17_foundations.ipynb',\n",
       " '18_CAM.html',\n",
       " '18_CAM.ipynb',\n",
       " '19_learner.html',\n",
       " '19_learner.ipynb',\n",
       " '20_conclusion.html',\n",
       " '20_conclusion.ipynb',\n",
       " 'Untitled.ipynb',\n",
       " 'app_blog.html',\n",
       " 'app_blog.ipynb',\n",
       " 'app_jupyter.html',\n",
       " 'app_jupyter.ipynb',\n",
       " 'export.pkl',\n",
       " 'utils.py',\n",
       " 'models',\n",
       " 'pet_breed_model',\n",
       " '.git',\n",
       " 'Untitled1.ipynb',\n",
       " 'pet_breed_model.pkl']"
      ]
     },
     "execution_count": 36,
     "metadata": {},
     "output_type": "execute_result"
    }
   ],
   "source": [
    "os.listdir(\".\")"
   ]
  },
  {
   "cell_type": "code",
   "execution_count": 37,
   "metadata": {},
   "outputs": [],
   "source": [
    "\n",
    "pmod = load_learner(\"pet_breed_model.pkl\", cpu=False)"
   ]
  },
  {
   "cell_type": "code",
   "execution_count": 38,
   "metadata": {},
   "outputs": [],
   "source": [
    "import ipywidgets"
   ]
  },
  {
   "cell_type": "code",
   "execution_count": 39,
   "metadata": {},
   "outputs": [
    {
     "data": {
      "application/vnd.jupyter.widget-view+json": {
       "model_id": "65eb0949013f43c6964739298b885cc2",
       "version_major": 2,
       "version_minor": 0
      },
      "text/plain": [
       "FileUpload(value={}, description='Upload')"
      ]
     },
     "metadata": {},
     "output_type": "display_data"
    }
   ],
   "source": [
    "\n",
    "fu = widgets.FileUpload(\n",
    "    accept='',  # Accepted file extension e.g. '.txt', '.pdf', 'image/*', 'image/*,.pdf'\n",
    "    multiple=False  # True to accept multiple files upload else False\n",
    ")\n",
    "fu"
   ]
  },
  {
   "cell_type": "code",
   "execution_count": 52,
   "metadata": {},
   "outputs": [
    {
     "data": {
      "text/html": [],
      "text/plain": [
       "<IPython.core.display.HTML object>"
      ]
     },
     "metadata": {},
     "output_type": "display_data"
    },
    {
     "data": {
      "text/plain": [
       "('great_pyrenees',\n",
       " tensor(21),\n",
       " tensor([5.6266e-09, 7.7188e-08, 2.6369e-09, 6.6844e-10, 6.9146e-09, 9.4236e-08,\n",
       "         5.1250e-09, 2.1618e-08, 2.1212e-10, 6.4118e-10, 3.4335e-09, 6.5594e-10,\n",
       "         3.5093e-09, 4.8052e-06, 1.3398e-07, 1.4424e-05, 4.9217e-10, 1.2119e-08,\n",
       "         2.5553e-07, 4.6048e-07, 3.5192e-07, 9.9981e-01, 7.2309e-08, 1.2868e-08,\n",
       "         1.7150e-09, 4.9911e-06, 4.7225e-08, 1.4791e-04, 1.9130e-07, 3.2451e-08,\n",
       "         2.0351e-07, 6.0162e-07, 1.6463e-09, 1.6809e-07, 9.5540e-09, 1.9005e-05,\n",
       "         3.9639e-08]))"
      ]
     },
     "execution_count": 52,
     "metadata": {},
     "output_type": "execute_result"
    }
   ],
   "source": [
    "img = PILImage.create(fu.data[-1])\n",
    "pmod.predict(img)"
   ]
  },
  {
   "cell_type": "code",
   "execution_count": 51,
   "metadata": {},
   "outputs": [
    {
     "data": {
      "application/vnd.jupyter.widget-view+json": {
       "model_id": "1819d4e3b6ce410ba0be9fdb956d3324",
       "version_major": 2,
       "version_minor": 0
      },
      "text/plain": [
       "Output()"
      ]
     },
     "metadata": {},
     "output_type": "display_data"
    }
   ],
   "source": [
    "#hide_output\n",
    "img = PILImage.create(fu.data[0])\n",
    "out_pl = widgets.Output()\n",
    "out_pl.clear_output()\n",
    "with out_pl: display(img.to_thumb(128,128))\n",
    "out_pl"
   ]
  },
  {
   "cell_type": "code",
   "execution_count": null,
   "metadata": {},
   "outputs": [],
   "source": []
  }
 ],
 "metadata": {
  "kernelspec": {
   "display_name": "Python 3",
   "language": "python",
   "name": "python3"
  },
  "language_info": {
   "codemirror_mode": {
    "name": "ipython",
    "version": 3
   },
   "file_extension": ".py",
   "mimetype": "text/x-python",
   "name": "python",
   "nbconvert_exporter": "python",
   "pygments_lexer": "ipython3",
   "version": "3.8.5"
  }
 },
 "nbformat": 4,
 "nbformat_minor": 4
}
